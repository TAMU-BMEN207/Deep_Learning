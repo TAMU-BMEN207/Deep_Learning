{
 "cells": [
  {
   "cell_type": "markdown",
   "id": "3a140100",
   "metadata": {},
   "source": [
    "# Deep Learning (Machine Learning Session II)\n",
    "@author Annice <br>\n",
    "Texas A&M University <br>\n",
    "BMEN 207 <br>\n",
    "Fall 2021 <br>"
   ]
  },
  {
   "cell_type": "markdown",
   "id": "55684910",
   "metadata": {},
   "source": [
    "<img style = \"border-radius: 10%;\" src=\"nerve_gray_free.jpg\" height=500 width=500 alt=\"obj-rec\">"
   ]
  },
  {
   "cell_type": "markdown",
   "id": "36e535bf",
   "metadata": {},
   "source": [
    "<h3>What is deep learning</h3>\n",
    "<br>\n",
    "It is a machine learning algorithm that learns patterns from data by using neural networks."
   ]
  },
  {
   "cell_type": "markdown",
   "id": "1ca2a10f",
   "metadata": {},
   "source": [
    "<img style = \"border-radius: 10%;\" src=\"chollet_diagram.png\" height=300, width=300 alt=\"obj-rec\">"
   ]
  },
  {
   "cell_type": "markdown",
   "id": "d3dae7e0",
   "metadata": {},
   "source": [
    "<h3>What is a neural network?</h3>\n",
    "<br>\n",
    "It is a circuit or network of neurons or nodes"
   ]
  },
  {
   "cell_type": "markdown",
   "id": "72da9cb6",
   "metadata": {},
   "source": [
    "<h3><strong>Structure of a Neural Network</strong></h3>\n",
    "<img src=\"neural_net_simple.png\" height= 350 width=350>"
   ]
  },
  {
   "cell_type": "markdown",
   "id": "eaaf45af",
   "metadata": {},
   "source": [
    "<h3>How do they learn</h3>\n",
    "<br>\n",
    "They learn by:<br>\n",
    "<ul><li>Forward propagation: How information from data moves from the input layer of the neural network to the output layer.</li>\n",
    "    <li>Back propagation: Information moves from output layer to the hidden layer</li>\n",
    "    </ul>"
   ]
  },
  {
   "cell_type": "markdown",
   "id": "92dfe76f",
   "metadata": {},
   "source": [
    "A neuron is the basic unit of neural networks. It always receives inputs, does some calculations and outputs a value. \n",
    "<img src=\"neuron_rep.png\" height= 400 width=400>\n",
    "Inputs get multipled by weights\n",
    "<img src=\"calc.png\" height= 200 width=200>\n",
    "The values will be added + some bias\n",
    "<img src=\"calc_2.png\" height= 300 width=300>\n",
    "The sum of the results will go through an activation function\n",
    "<img src=\"calc_3.png\" height= 350 width=350>\n",
    "One example of an activation function is ```sigmoid``` which gives turns the result of the previous step to a value between 0 and 1. The sigmoid function is also known as a logistic function.\n",
    "<img src=\"calc_4.png\" height= 350 width=350>\n",
    "Relu activation: \n",
    "    <img src=\"https://upload.wikimedia.org/wikipedia/commons/4/42/ReLU_and_GELU.svg\">\n",
    "Softmax Activation: \n",
    "    Generalization of the logistic (sigmoid) function. Therefore instead of giving you results for only two classes, it can give you the probability of your result over different classes. \n",
    "    <img src=\"softmax.png\" width=400, height=400>\n",
    "    \n",
    "<h6><em>Reference of images: <a href=\"https://victorzhou.com/blog/intro-to-neural-networks/\">Victor Zhou's blog</a><em></h6>"
   ]
  },
  {
   "cell_type": "markdown",
   "id": "212e5b3d",
   "metadata": {},
   "source": [
    "<h3> Question: Why would we use back progagation? </h3>"
   ]
  },
  {
   "cell_type": "markdown",
   "id": "51aa4679",
   "metadata": {},
   "source": [
    "**Answer here:**"
   ]
  },
  {
   "cell_type": "markdown",
   "id": "fc346607",
   "metadata": {},
   "source": [
    "<h3>Question: What happens if we initialize all weights of our neural network to a constant number and all biases to zero?</h3>"
   ]
  },
  {
   "cell_type": "markdown",
   "id": "fce386cf",
   "metadata": {},
   "source": [
    "**Answer here:** \n"
   ]
  },
  {
   "cell_type": "markdown",
   "id": "77cf653a",
   "metadata": {},
   "source": [
    "<h3>What happens if we initialize our weights to be super small?</h3>"
   ]
  },
  {
   "cell_type": "markdown",
   "id": "8482f349",
   "metadata": {},
   "source": [
    "**Answer here:** If we choose our weights to be super small then the gradient will be super small as well meaning updating weights will be done very slowly... This is known as the vanishing gradient problem.</h3>"
   ]
  },
  {
   "cell_type": "markdown",
   "id": "f58bca4c",
   "metadata": {},
   "source": [
    "<h3>What happens if we initialize our weights to be extermely large?"
   ]
  },
  {
   "cell_type": "markdown",
   "id": "d9cd4b02",
   "metadata": {},
   "source": [
    "**Answer Here:** This way the gradient will be updated with extremely large weights specially in the earlier layers overshooting the actual weight... This is known as the exploding gradient problem."
   ]
  },
  {
   "cell_type": "markdown",
   "id": "6d5bb126",
   "metadata": {},
   "source": [
    "<a href=\"https://www.deeplearning.ai/ai-notes/initialization/\">Play around with initialization methods here!<a>"
   ]
  },
  {
   "cell_type": "markdown",
   "id": "4337cf5a",
   "metadata": {},
   "source": [
    "<h3>Review of the learning process</h3>\n",
    "<ol>\n",
    "<li>Initalize weights and biases</li>\n",
    "<li>Forward propagation and have input data move through neural network and give some outputs</li>\n",
    "<li>Take the outputs and evaluate them using cost function</li>\n",
    "<li>Back propagate and adjust weights and biases to minimize error</li>\n",
    "</ol>"
   ]
  },
  {
   "cell_type": "markdown",
   "id": "9c318f9f",
   "metadata": {},
   "source": [
    "<h3>Optimizers</h3>\n",
    "<ul>\n",
    "    <li>Gradient Descent</li>\n",
    "    <li>Stochastic Gradient Descent</li>\n",
    "    <li>Adagrad</li>\n",
    "    <li>RMSprop</li>\n",
    "    <li>Adam</li>\n",
    "    </ul>"
   ]
  },
  {
   "cell_type": "markdown",
   "id": "c6506044",
   "metadata": {},
   "source": [
    "# Review on Mnist Dataset"
   ]
  },
  {
   "cell_type": "markdown",
   "id": "3f859e3c",
   "metadata": {},
   "source": [
    "**Reminder**\n",
    "<ol>\n",
    "    <li> Determine your dataset (What is the shape of the dataset, how large is it?/ Download, import, or visualize ...)</li>\n",
    "    <li> Clean your data (Missing? Outliers? Cannot classify? Duplicates?) </li>\n",
    "    <li> Divide dataset into training and testing data </li>\n",
    "    <li> Build a model </li>\n",
    "    <li> Train the model using the training data </li>\n",
    "    <li> Test the model on test data </li>\n",
    "    <li> Improve the model (Add data, Augment data, change your model) </li>\n",
    "    </ol>"
   ]
  },
  {
   "cell_type": "code",
   "execution_count": 54,
   "id": "d3086a47",
   "metadata": {},
   "outputs": [],
   "source": [
    "#if you don't have tensorflow installed\n",
    "'''\n",
    "!pip intsall tensorflow\n",
    "'''\n",
    "import tensorflow as tf\n",
    "\n",
    "mnist = tf.keras.datasets.mnist"
   ]
  },
  {
   "cell_type": "markdown",
   "id": "892047f8",
   "metadata": {},
   "source": [
    "<h3>Import Data</h3>"
   ]
  },
  {
   "cell_type": "code",
   "execution_count": 55,
   "id": "f46a6015",
   "metadata": {},
   "outputs": [],
   "source": [
    "#import the mnist dataset\n",
    "(X_train, Y_train), (X_test, Y_test) = mnist.load_data()"
   ]
  },
  {
   "cell_type": "code",
   "execution_count": 56,
   "id": "03706193",
   "metadata": {},
   "outputs": [],
   "source": [
    "#Save for reference in case we change the images later\n",
    "(X_train_ref, Y_train_ref), (X_test_ref, Y_test_ref) = mnist.load_data()"
   ]
  },
  {
   "cell_type": "markdown",
   "id": "008a9049",
   "metadata": {},
   "source": [
    "<h3>Look at Shape of Data</h3>"
   ]
  },
  {
   "cell_type": "code",
   "execution_count": 57,
   "id": "a8cc826d",
   "metadata": {},
   "outputs": [
    {
     "data": {
      "text/plain": [
       "(60000, 28, 28)"
      ]
     },
     "execution_count": 57,
     "metadata": {},
     "output_type": "execute_result"
    }
   ],
   "source": [
    "#look at the shape of the training dataset\n",
    "X_train.shape"
   ]
  },
  {
   "cell_type": "code",
   "execution_count": 58,
   "id": "465ab984",
   "metadata": {},
   "outputs": [
    {
     "data": {
      "text/plain": [
       "(10000, 28, 28)"
      ]
     },
     "execution_count": 58,
     "metadata": {},
     "output_type": "execute_result"
    }
   ],
   "source": [
    "#let's look at the shape of the test dataset as well\n",
    "X_test.shape"
   ]
  },
  {
   "cell_type": "code",
   "execution_count": 59,
   "id": "608dbe91",
   "metadata": {},
   "outputs": [
    {
     "data": {
      "text/plain": [
       "array([[  0,   0,   0,   0,   0,   0,   0,   0,   0,   0,   0,   0,   0,\n",
       "          0,   0,   0,   0,   0,   0,   0,   0,   0,   0,   0,   0,   0,\n",
       "          0,   0],\n",
       "       [  0,   0,   0,   0,   0,   0,   0,   0,   0,   0,   0,   0,   0,\n",
       "          0,   0,   0,   0,   0,   0,   0,   0,   0,   0,   0,   0,   0,\n",
       "          0,   0],\n",
       "       [  0,   0,   0,   0,   0,   0,   0,   0,   0,   0,   0,   0,   0,\n",
       "          0,   0,   0,   0,   0,   0,   0,   0,   0,   0,   0,   0,   0,\n",
       "          0,   0],\n",
       "       [  0,   0,   0,   0,   0,   0,   0,   0,   0,   0,   0,   0,   0,\n",
       "          0,   0,   0,   0,   0,   0,   0,   0,   0,   0,   0,   0,   0,\n",
       "          0,   0],\n",
       "       [  0,   0,   0,   0,   0,   0,   0,   0,   0,   0,   0,   0,   0,\n",
       "          0,   0,   0,   0,   0,   0,   0,   0,   0,   0,   0,   0,   0,\n",
       "          0,   0],\n",
       "       [  0,   0,   0,   0,   0,   0,   0,   0,   0,   0,   0,   0,   3,\n",
       "         18,  18,  18, 126, 136, 175,  26, 166, 255, 247, 127,   0,   0,\n",
       "          0,   0],\n",
       "       [  0,   0,   0,   0,   0,   0,   0,   0,  30,  36,  94, 154, 170,\n",
       "        253, 253, 253, 253, 253, 225, 172, 253, 242, 195,  64,   0,   0,\n",
       "          0,   0],\n",
       "       [  0,   0,   0,   0,   0,   0,   0,  49, 238, 253, 253, 253, 253,\n",
       "        253, 253, 253, 253, 251,  93,  82,  82,  56,  39,   0,   0,   0,\n",
       "          0,   0],\n",
       "       [  0,   0,   0,   0,   0,   0,   0,  18, 219, 253, 253, 253, 253,\n",
       "        253, 198, 182, 247, 241,   0,   0,   0,   0,   0,   0,   0,   0,\n",
       "          0,   0],\n",
       "       [  0,   0,   0,   0,   0,   0,   0,   0,  80, 156, 107, 253, 253,\n",
       "        205,  11,   0,  43, 154,   0,   0,   0,   0,   0,   0,   0,   0,\n",
       "          0,   0],\n",
       "       [  0,   0,   0,   0,   0,   0,   0,   0,   0,  14,   1, 154, 253,\n",
       "         90,   0,   0,   0,   0,   0,   0,   0,   0,   0,   0,   0,   0,\n",
       "          0,   0],\n",
       "       [  0,   0,   0,   0,   0,   0,   0,   0,   0,   0,   0, 139, 253,\n",
       "        190,   2,   0,   0,   0,   0,   0,   0,   0,   0,   0,   0,   0,\n",
       "          0,   0],\n",
       "       [  0,   0,   0,   0,   0,   0,   0,   0,   0,   0,   0,  11, 190,\n",
       "        253,  70,   0,   0,   0,   0,   0,   0,   0,   0,   0,   0,   0,\n",
       "          0,   0],\n",
       "       [  0,   0,   0,   0,   0,   0,   0,   0,   0,   0,   0,   0,  35,\n",
       "        241, 225, 160, 108,   1,   0,   0,   0,   0,   0,   0,   0,   0,\n",
       "          0,   0],\n",
       "       [  0,   0,   0,   0,   0,   0,   0,   0,   0,   0,   0,   0,   0,\n",
       "         81, 240, 253, 253, 119,  25,   0,   0,   0,   0,   0,   0,   0,\n",
       "          0,   0],\n",
       "       [  0,   0,   0,   0,   0,   0,   0,   0,   0,   0,   0,   0,   0,\n",
       "          0,  45, 186, 253, 253, 150,  27,   0,   0,   0,   0,   0,   0,\n",
       "          0,   0],\n",
       "       [  0,   0,   0,   0,   0,   0,   0,   0,   0,   0,   0,   0,   0,\n",
       "          0,   0,  16,  93, 252, 253, 187,   0,   0,   0,   0,   0,   0,\n",
       "          0,   0],\n",
       "       [  0,   0,   0,   0,   0,   0,   0,   0,   0,   0,   0,   0,   0,\n",
       "          0,   0,   0,   0, 249, 253, 249,  64,   0,   0,   0,   0,   0,\n",
       "          0,   0],\n",
       "       [  0,   0,   0,   0,   0,   0,   0,   0,   0,   0,   0,   0,   0,\n",
       "          0,  46, 130, 183, 253, 253, 207,   2,   0,   0,   0,   0,   0,\n",
       "          0,   0],\n",
       "       [  0,   0,   0,   0,   0,   0,   0,   0,   0,   0,   0,   0,  39,\n",
       "        148, 229, 253, 253, 253, 250, 182,   0,   0,   0,   0,   0,   0,\n",
       "          0,   0],\n",
       "       [  0,   0,   0,   0,   0,   0,   0,   0,   0,   0,  24, 114, 221,\n",
       "        253, 253, 253, 253, 201,  78,   0,   0,   0,   0,   0,   0,   0,\n",
       "          0,   0],\n",
       "       [  0,   0,   0,   0,   0,   0,   0,   0,  23,  66, 213, 253, 253,\n",
       "        253, 253, 198,  81,   2,   0,   0,   0,   0,   0,   0,   0,   0,\n",
       "          0,   0],\n",
       "       [  0,   0,   0,   0,   0,   0,  18, 171, 219, 253, 253, 253, 253,\n",
       "        195,  80,   9,   0,   0,   0,   0,   0,   0,   0,   0,   0,   0,\n",
       "          0,   0],\n",
       "       [  0,   0,   0,   0,  55, 172, 226, 253, 253, 253, 253, 244, 133,\n",
       "         11,   0,   0,   0,   0,   0,   0,   0,   0,   0,   0,   0,   0,\n",
       "          0,   0],\n",
       "       [  0,   0,   0,   0, 136, 253, 253, 253, 212, 135, 132,  16,   0,\n",
       "          0,   0,   0,   0,   0,   0,   0,   0,   0,   0,   0,   0,   0,\n",
       "          0,   0],\n",
       "       [  0,   0,   0,   0,   0,   0,   0,   0,   0,   0,   0,   0,   0,\n",
       "          0,   0,   0,   0,   0,   0,   0,   0,   0,   0,   0,   0,   0,\n",
       "          0,   0],\n",
       "       [  0,   0,   0,   0,   0,   0,   0,   0,   0,   0,   0,   0,   0,\n",
       "          0,   0,   0,   0,   0,   0,   0,   0,   0,   0,   0,   0,   0,\n",
       "          0,   0],\n",
       "       [  0,   0,   0,   0,   0,   0,   0,   0,   0,   0,   0,   0,   0,\n",
       "          0,   0,   0,   0,   0,   0,   0,   0,   0,   0,   0,   0,   0,\n",
       "          0,   0]], dtype=uint8)"
      ]
     },
     "execution_count": 59,
     "metadata": {},
     "output_type": "execute_result"
    }
   ],
   "source": [
    "#Let's take a closer look at the dataset\n",
    "X_train[0]"
   ]
  },
  {
   "cell_type": "code",
   "execution_count": 62,
   "id": "d42f4ab9",
   "metadata": {},
   "outputs": [
    {
     "data": {
      "text/plain": [
       "<matplotlib.image.AxesImage at 0x7fcff5f49310>"
      ]
     },
     "execution_count": 62,
     "metadata": {},
     "output_type": "execute_result"
    },
    {
     "data": {
      "image/png": "[encoded data removed]",
      "text/plain": [
       "<Figure size 432x288 with 1 Axes>"
      ]
     },
     "metadata": {
      "needs_background": "light"
     },
     "output_type": "display_data"
    }
   ],
   "source": [
    "#let's plot handwritten numbers using matplotlib\n",
    "import matplotlib.pyplot as plt\n",
    "plt.imshow(X_train[1], plt.cm.binary)"
   ]
  },
  {
   "cell_type": "markdown",
   "id": "22815b19",
   "metadata": {},
   "source": [
    "<h3>How do the labels look like?</h3>"
   ]
  },
  {
   "cell_type": "code",
   "execution_count": 61,
   "id": "c4100cab",
   "metadata": {
    "scrolled": true
   },
   "outputs": [
    {
     "data": {
      "text/plain": [
       "array([5, 0, 4, ..., 5, 6, 8], dtype=uint8)"
      ]
     },
     "execution_count": 61,
     "metadata": {},
     "output_type": "execute_result"
    }
   ],
   "source": [
    "#check here\n",
    "Y_train"
   ]
  },
  {
   "cell_type": "markdown",
   "id": "d5ad36ac",
   "metadata": {},
   "source": [
    "<h3>Convert to Categorical</h3>"
   ]
  },
  {
   "cell_type": "code",
   "execution_count": 64,
   "id": "3396bcb6",
   "metadata": {
    "scrolled": true
   },
   "outputs": [],
   "source": [
    "#convert labels to categorical\n",
    "Y_train = tf.keras.utils.to_categorical(Y_train)\n",
    "Y_test = tf.keras.utils.to_categorical(Y_test)"
   ]
  },
  {
   "cell_type": "code",
   "execution_count": 78,
   "id": "dc4af36b",
   "metadata": {},
   "outputs": [
    {
     "data": {
      "text/plain": [
       "array([[0., 0., 0., ..., 0., 0., 0.],\n",
       "       [1., 0., 0., ..., 0., 0., 0.],\n",
       "       [0., 0., 0., ..., 0., 0., 0.],\n",
       "       ...,\n",
       "       [0., 0., 0., ..., 0., 0., 0.],\n",
       "       [0., 0., 0., ..., 0., 0., 0.],\n",
       "       [0., 0., 0., ..., 0., 1., 0.]], dtype=float32)"
      ]
     },
     "execution_count": 78,
     "metadata": {},
     "output_type": "execute_result"
    }
   ],
   "source": [
    "Y_train"
   ]
  },
  {
   "cell_type": "markdown",
   "id": "8698ac3d",
   "metadata": {},
   "source": [
    "<h3>Normalize Data</h3>"
   ]
  },
  {
   "cell_type": "code",
   "execution_count": 65,
   "id": "17310204",
   "metadata": {},
   "outputs": [
    {
     "data": {
      "text/plain": [
       "(28, 28)"
      ]
     },
     "execution_count": 65,
     "metadata": {},
     "output_type": "execute_result"
    }
   ],
   "source": [
    "#Note to Annice, print shape of image before running next cell\n",
    "X_train[0].shape"
   ]
  },
  {
   "cell_type": "code",
   "execution_count": 70,
   "id": "3a308e3b",
   "metadata": {},
   "outputs": [],
   "source": [
    "#reshape images and normalize\n",
    "X_train = X_train.reshape((60_000, 28*28))\n",
    "X_test = X_test.reshape((10_000, 28*28))"
   ]
  },
  {
   "cell_type": "code",
   "execution_count": 72,
   "id": "aeea236e",
   "metadata": {},
   "outputs": [],
   "source": [
    "X_train = X_train/255\n",
    "X_test = X_test/255"
   ]
  },
  {
   "cell_type": "code",
   "execution_count": 73,
   "id": "a0a3eb50",
   "metadata": {},
   "outputs": [
    {
     "data": {
      "text/plain": [
       "(784,)"
      ]
     },
     "execution_count": 73,
     "metadata": {},
     "output_type": "execute_result"
    }
   ],
   "source": [
    "#print shape of image again\n",
    "X_test[0].shape"
   ]
  },
  {
   "cell_type": "markdown",
   "id": "5da58654",
   "metadata": {},
   "source": [
    "<h3>Build Model</h3>"
   ]
  },
  {
   "cell_type": "code",
   "execution_count": 74,
   "id": "73a8d52b",
   "metadata": {},
   "outputs": [],
   "source": [
    "#build model\n",
    "from keras import models\n",
    "from keras import layers\n",
    "model = models.Sequential()\n",
    "model.add(layers.Dense(512, activation='relu', input_shape=(784,),))\n",
    "model.add(layers.Dense(10, activation='softmax'))"
   ]
  },
  {
   "cell_type": "code",
   "execution_count": 75,
   "id": "aa295212",
   "metadata": {},
   "outputs": [
    {
     "name": "stdout",
     "output_type": "stream",
     "text": [
      "Model: \"sequential\"\n",
      "_________________________________________________________________\n",
      "Layer (type)                 Output Shape              Param #   \n",
      "=================================================================\n",
      "dense (Dense)                (None, 512)               401920    \n",
      "_________________________________________________________________\n",
      "dense_1 (Dense)              (None, 10)                5130      \n",
      "=================================================================\n",
      "Total params: 407,050\n",
      "Trainable params: 407,050\n",
      "Non-trainable params: 0\n",
      "_________________________________________________________________\n"
     ]
    }
   ],
   "source": [
    "#print summary of model\n",
    "model.summary()"
   ]
  },
  {
   "cell_type": "markdown",
   "id": "43a80669",
   "metadata": {},
   "source": [
    "<h3>Train</h3>"
   ]
  },
  {
   "cell_type": "code",
   "execution_count": 77,
   "id": "b741f354",
   "metadata": {},
   "outputs": [
    {
     "data": {
      "text/plain": [
       "'\\nRMSProp, is an extension of gradient descent. It uses a decaying average \\nof partial gradients for each parameter.\\ncategorical_crossentropy: computes the loss between the labels and predictions. Used for multi-class classification\\n'"
      ]
     },
     "execution_count": 77,
     "metadata": {},
     "output_type": "execute_result"
    }
   ],
   "source": [
    "#train model \n",
    "model.compile(optimizer='RMSProp', loss='categorical_crossentropy', metrics=['accuracy'])\n",
    "'''\n",
    "RMSProp, is an extension of gradient descent. It uses a decaying average \n",
    "of partial gradients for each parameter.\n",
    "categorical_crossentropy: computes the loss between the labels and predictions. Used for multi-class classification\n",
    "'''\n"
   ]
  },
  {
   "cell_type": "code",
   "execution_count": 79,
   "id": "f4985353",
   "metadata": {},
   "outputs": [
    {
     "name": "stdout",
     "output_type": "stream",
     "text": [
      "Epoch 1/5\n",
      "1875/1875 [==============================] - 12s 6ms/step - loss: 0.2018 - accuracy: 0.9413\n",
      "Epoch 2/5\n",
      "1875/1875 [==============================] - 12s 6ms/step - loss: 0.0912 - accuracy: 0.9741\n",
      "Epoch 3/5\n",
      "1875/1875 [==============================] - 14s 7ms/step - loss: 0.0659 - accuracy: 0.9814\n",
      "Epoch 4/5\n",
      "1875/1875 [==============================] - 12s 6ms/step - loss: 0.0508 - accuracy: 0.9860\n",
      "Epoch 5/5\n",
      "1875/1875 [==============================] - 11s 6ms/step - loss: 0.0411 - accuracy: 0.9884\n"
     ]
    }
   ],
   "source": [
    "#extract the history of validation and accuracy loss over epochs\n",
    "history = model.fit(X_train, Y_train, epochs=5)"
   ]
  },
  {
   "cell_type": "code",
   "execution_count": 80,
   "id": "e431e377",
   "metadata": {},
   "outputs": [
    {
     "name": "stdout",
     "output_type": "stream",
     "text": [
      "313/313 [==============================] - 2s 6ms/step - loss: 0.0999 - accuracy: 0.9770\n"
     ]
    },
    {
     "data": {
      "text/plain": [
       "[0.0999297946691513, 0.9769999980926514]"
      ]
     },
     "execution_count": 80,
     "metadata": {},
     "output_type": "execute_result"
    }
   ],
   "source": [
    "#evaluate loss and accuracy on test data\n",
    "model.evaluate(X_test, Y_test)"
   ]
  },
  {
   "cell_type": "code",
   "execution_count": 81,
   "id": "b50df056",
   "metadata": {},
   "outputs": [
    {
     "data": {
      "text/plain": [
       "dict_keys(['loss', 'accuracy'])"
      ]
     },
     "execution_count": 81,
     "metadata": {},
     "output_type": "execute_result"
    }
   ],
   "source": [
    "#let's see the keys from history\n",
    "history.history.keys()"
   ]
  },
  {
   "cell_type": "code",
   "execution_count": 83,
   "id": "ba4b9f31",
   "metadata": {},
   "outputs": [
    {
     "data": {
      "text/plain": [
       "<matplotlib.legend.Legend at 0x7fcfb4fc51c0>"
      ]
     },
     "execution_count": 83,
     "metadata": {},
     "output_type": "execute_result"
    },
    {
     "data": {
      "image/png": "[encoded data removed]",
      "text/plain": [
       "<Figure size 432x288 with 1 Axes>"
      ]
     },
     "metadata": {
      "needs_background": "light"
     },
     "output_type": "display_data"
    }
   ],
   "source": [
    "#plot validation loss and accuracy\n",
    "epochs = range(0,5)\n",
    "loss_over_epochs = history.history['loss']\n",
    "acc_over_epochs = history.history['accuracy']\n",
    "plt.plot(epochs, loss_over_epochs, label=\"loss\")\n",
    "plt.plot(epochs, acc_over_epochs, label=\"accuracy\")\n",
    "plt.xlabel('epochs')\n",
    "plt.ylabel('accuracy and loss')\n",
    "plt.title('accuracy and loss over epochs')\n",
    "plt.legend()"
   ]
  },
  {
   "cell_type": "code",
   "execution_count": 84,
   "id": "66141dfb",
   "metadata": {},
   "outputs": [
    {
     "name": "stdout",
     "output_type": "stream",
     "text": [
      "INFO:tensorflow:Assets written to: mnist_classifier.model/assets\n"
     ]
    }
   ],
   "source": [
    "#save the model\n",
    "model.save('mnist_classifier.model')"
   ]
  },
  {
   "cell_type": "code",
   "execution_count": 87,
   "id": "c898237d",
   "metadata": {},
   "outputs": [],
   "source": [
    "#load the model\n",
    "model = tf.keras.models.load_model('mnist_classifier.model')"
   ]
  },
  {
   "cell_type": "code",
   "execution_count": 89,
   "id": "97aeaba2",
   "metadata": {},
   "outputs": [],
   "source": [
    "#predict the test labels\n",
    "preds = model.predict(X_test)"
   ]
  },
  {
   "cell_type": "code",
   "execution_count": 90,
   "id": "ab0a94a1",
   "metadata": {},
   "outputs": [
    {
     "data": {
      "text/plain": [
       "array([[1.7819921e-15, 3.1912284e-19, 1.5578000e-09, ..., 9.9999988e-01,\n",
       "        1.0431737e-13, 3.5586084e-10],\n",
       "       [4.3689610e-23, 1.5100673e-13, 1.0000000e+00, ..., 5.0509353e-34,\n",
       "        3.8275576e-17, 6.9437752e-33],\n",
       "       [1.0151712e-11, 9.9994898e-01, 2.2049222e-05, ..., 7.3944434e-06,\n",
       "        2.1288739e-05, 1.9726998e-09],\n",
       "       ...,\n",
       "       [2.3735568e-21, 2.8426895e-13, 4.8127924e-14, ..., 2.5634120e-07,\n",
       "        2.0824368e-08, 6.0500365e-06],\n",
       "       [5.3262406e-15, 2.7503935e-18, 9.4720326e-17, ..., 5.8660515e-20,\n",
       "        3.8060254e-05, 1.6329207e-18],\n",
       "       [7.1270173e-17, 4.4473066e-29, 7.0195222e-17, ..., 7.2779878e-25,\n",
       "        5.1028379e-19, 8.4667550e-21]], dtype=float32)"
      ]
     },
     "execution_count": 90,
     "metadata": {},
     "output_type": "execute_result"
    }
   ],
   "source": [
    "#print predictions\n",
    "preds"
   ]
  },
  {
   "cell_type": "code",
   "execution_count": 91,
   "id": "963a660f",
   "metadata": {},
   "outputs": [
    {
     "data": {
      "text/plain": [
       "array([1.7819921e-15, 3.1912284e-19, 1.5578000e-09, 1.4754879e-07,\n",
       "       9.3771753e-20, 1.0404752e-13, 5.2499072e-23, 9.9999988e-01,\n",
       "       1.0431737e-13, 3.5586084e-10], dtype=float32)"
      ]
     },
     "execution_count": 91,
     "metadata": {},
     "output_type": "execute_result"
    }
   ],
   "source": [
    "#let's look at one image\n",
    "preds[0]"
   ]
  },
  {
   "cell_type": "code",
   "execution_count": 94,
   "id": "c77264a4",
   "metadata": {},
   "outputs": [
    {
     "data": {
      "text/plain": [
       "2"
      ]
     },
     "execution_count": 94,
     "metadata": {},
     "output_type": "execute_result"
    }
   ],
   "source": [
    "#print prediction for image\n",
    "import numpy as np\n",
    "np.argmax(preds[1])"
   ]
  },
  {
   "cell_type": "code",
   "execution_count": 96,
   "id": "37d4ab60",
   "metadata": {},
   "outputs": [
    {
     "data": {
      "text/plain": [
       "<matplotlib.image.AxesImage at 0x7fcfb716b970>"
      ]
     },
     "execution_count": 96,
     "metadata": {},
     "output_type": "execute_result"
    },
    {
     "data": {
      "image/png": "[encoded data removed]",
      "text/plain": [
       "<Figure size 432x288 with 1 Axes>"
      ]
     },
     "metadata": {
      "needs_background": "light"
     },
     "output_type": "display_data"
    }
   ],
   "source": [
    "#show the actual image\n",
    "plt.imshow(X_test_ref[1], plt.cm.binary)"
   ]
  },
  {
   "cell_type": "markdown",
   "id": "cd57abb4",
   "metadata": {},
   "source": [
    "<h3>Test on your own handwriting</h3>"
   ]
  },
  {
   "cell_type": "code",
   "execution_count": 108,
   "id": "a578ce03",
   "metadata": {},
   "outputs": [
    {
     "data": {
      "text/plain": [
       "<matplotlib.image.AxesImage at 0x7fcfb7583490>"
      ]
     },
     "execution_count": 108,
     "metadata": {},
     "output_type": "execute_result"
    },
    {
     "data": {
      "image/png": "[encoded data removed]",
      "text/plain": [
       "<Figure size 432x288 with 1 Axes>"
      ]
     },
     "metadata": {
      "needs_background": "light"
     },
     "output_type": "display_data"
    }
   ],
   "source": [
    "#import image\n",
    "#Make sure you invert black and white\n",
    "from PIL import Image\n",
    "file_path = 'three.png'\n",
    "my_img = Image.open(file_path).convert('L')\n",
    "my_img = np.invert(my_img)\n",
    "plt.imshow(my_img, plt.cm.binary)"
   ]
  },
  {
   "cell_type": "code",
   "execution_count": 109,
   "id": "95716fae",
   "metadata": {},
   "outputs": [],
   "source": [
    "#show the image\n",
    "my_data = np.asarray(my_img)"
   ]
  },
  {
   "cell_type": "code",
   "execution_count": 110,
   "id": "26ccdaab",
   "metadata": {},
   "outputs": [
    {
     "data": {
      "text/plain": [
       "(28, 28)"
      ]
     },
     "execution_count": 110,
     "metadata": {},
     "output_type": "execute_result"
    }
   ],
   "source": [
    "#Take a look at the shape of the image... remember we normalized and changed the shape\n",
    "my_data.shape"
   ]
  },
  {
   "cell_type": "code",
   "execution_count": 111,
   "id": "afd6cc5e",
   "metadata": {},
   "outputs": [],
   "source": [
    "#normalize and reshape\n",
    "my_data = my_data.reshape((1, 28*28))"
   ]
  },
  {
   "cell_type": "code",
   "execution_count": 112,
   "id": "2548378a",
   "metadata": {},
   "outputs": [],
   "source": [
    "my_data = my_data/255"
   ]
  },
  {
   "cell_type": "code",
   "execution_count": 105,
   "id": "087c5ac6",
   "metadata": {},
   "outputs": [
    {
     "data": {
      "text/plain": [
       "array([[0.        , 0.        , 0.        , 0.        , 0.        ,\n",
       "        0.        , 0.        , 0.        , 0.        , 0.        ,\n",
       "        0.        , 0.        , 0.        , 0.        , 0.        ,\n",
       "        0.        , 0.        , 0.        , 0.        , 0.        ,\n",
       "        0.        , 0.        , 0.        , 0.        , 0.        ,\n",
       "        0.        , 0.        , 0.        , 0.        , 0.        ,\n",
       "        0.        , 0.        , 0.        , 0.        , 0.        ,\n",
       "        0.        , 0.        , 0.        , 0.        , 0.        ,\n",
       "        0.        , 0.        , 0.        , 0.        , 0.        ,\n",
       "        0.        , 0.        , 0.        , 0.        , 0.        ,\n",
       "        0.        , 0.        , 0.        , 0.        , 0.        ,\n",
       "        0.        , 0.        , 0.        , 0.        , 0.        ,\n",
       "        0.        , 0.        , 0.        , 0.        , 0.        ,\n",
       "        0.        , 0.        , 0.        , 0.        , 0.        ,\n",
       "        0.        , 0.        , 0.        , 0.        , 0.        ,\n",
       "        0.        , 0.        , 0.        , 0.        , 0.        ,\n",
       "        0.        , 0.        , 0.        , 0.        , 0.        ,\n",
       "        0.        , 0.        , 0.        , 0.        , 0.        ,\n",
       "        0.        , 0.        , 0.        , 0.        , 0.        ,\n",
       "        0.        , 0.        , 0.        , 0.        , 0.        ,\n",
       "        0.        , 0.        , 0.        , 0.        , 0.        ,\n",
       "        0.        , 0.        , 0.        , 0.        , 0.        ,\n",
       "        0.        , 0.        , 0.        , 0.        , 0.        ,\n",
       "        0.        , 0.        , 0.        , 0.        , 0.        ,\n",
       "        0.        , 0.        , 0.        , 0.00392157, 0.52941176,\n",
       "        0.94901961, 0.97647059, 0.52156863, 0.        , 0.        ,\n",
       "        0.        , 0.        , 0.        , 0.        , 0.        ,\n",
       "        0.        , 0.        , 0.        , 0.        , 0.        ,\n",
       "        0.        , 0.        , 0.        , 0.        , 0.        ,\n",
       "        0.        , 0.        , 0.        , 0.        , 0.        ,\n",
       "        0.        , 0.52941176, 1.        , 1.        , 1.        ,\n",
       "        0.95294118, 0.        , 0.        , 0.        , 0.        ,\n",
       "        0.        , 0.        , 0.        , 0.        , 0.        ,\n",
       "        0.        , 0.        , 0.        , 0.        , 0.        ,\n",
       "        0.        , 0.        , 0.        , 0.        , 0.        ,\n",
       "        0.        , 0.        , 0.        , 0.1254902 , 0.94901961,\n",
       "        1.        , 1.        , 0.97647059, 0.52156863, 0.        ,\n",
       "        0.        , 0.        , 0.        , 0.        , 0.        ,\n",
       "        0.        , 0.        , 0.        , 0.        , 0.        ,\n",
       "        0.        , 0.        , 0.        , 0.        , 0.        ,\n",
       "        0.        , 0.        , 0.        , 0.        , 0.        ,\n",
       "        0.1254902 , 0.87843137, 1.        , 1.        , 0.87843137,\n",
       "        0.00392157, 0.        , 0.        , 0.        , 0.        ,\n",
       "        0.        , 0.        , 0.        , 0.        , 0.        ,\n",
       "        0.        , 0.        , 0.        , 0.        , 0.        ,\n",
       "        0.        , 0.        , 0.        , 0.        , 0.        ,\n",
       "        0.        , 0.        , 0.1254902 , 0.87843137, 1.        ,\n",
       "        1.        , 0.87843137, 0.1254902 , 0.        , 0.        ,\n",
       "        0.        , 0.        , 0.        , 0.        , 0.        ,\n",
       "        0.        , 0.        , 0.        , 0.        , 0.        ,\n",
       "        0.        , 0.        , 0.        , 0.        , 0.        ,\n",
       "        0.        , 0.        , 0.        , 0.        , 0.        ,\n",
       "        0.87843137, 1.        , 1.        , 0.87843137, 0.1254902 ,\n",
       "        0.        , 0.        , 0.        , 0.        , 0.        ,\n",
       "        0.        , 0.        , 0.        , 0.        , 0.        ,\n",
       "        0.        , 0.        , 0.        , 0.        , 0.        ,\n",
       "        0.        , 0.        , 0.        , 0.        , 0.        ,\n",
       "        0.        , 0.        , 0.1254902 , 1.        , 1.        ,\n",
       "        1.        , 0.1254902 , 0.        , 0.        , 0.        ,\n",
       "        0.        , 0.        , 0.        , 0.        , 0.        ,\n",
       "        0.        , 0.        , 0.        , 0.        , 0.        ,\n",
       "        0.        , 0.        , 0.        , 0.        , 0.        ,\n",
       "        0.        , 0.        , 0.        , 0.        , 0.        ,\n",
       "        0.87843137, 1.        , 1.        , 0.87843137, 0.        ,\n",
       "        0.        , 0.        , 0.        , 0.        , 0.        ,\n",
       "        0.        , 0.        , 0.        , 0.        , 0.        ,\n",
       "        0.        , 0.        , 0.        , 0.        , 0.        ,\n",
       "        0.        , 0.        , 0.        , 0.        , 0.        ,\n",
       "        0.        , 0.        , 0.        , 1.        , 1.        ,\n",
       "        1.        , 1.        , 1.        , 1.        , 1.        ,\n",
       "        1.        , 1.        , 0.87843137, 0.1254902 , 0.        ,\n",
       "        0.        , 0.        , 0.        , 0.        , 0.        ,\n",
       "        0.        , 0.        , 0.        , 0.        , 0.        ,\n",
       "        0.        , 0.        , 0.        , 0.        , 0.        ,\n",
       "        0.1254902 , 1.        , 1.        , 1.        , 1.        ,\n",
       "        1.        , 1.        , 1.        , 1.        , 1.        ,\n",
       "        1.        , 1.        , 0.87843137, 0.1254902 , 0.        ,\n",
       "        0.        , 0.        , 0.        , 0.        , 0.        ,\n",
       "        0.        , 0.        , 0.        , 0.        , 0.        ,\n",
       "        0.        , 0.        , 0.        , 0.87843137, 1.        ,\n",
       "        1.        , 1.        , 1.        , 1.        , 1.        ,\n",
       "        1.        , 1.        , 1.        , 1.        , 1.        ,\n",
       "        1.        , 0.87843137, 0.        , 0.        , 0.        ,\n",
       "        0.        , 0.        , 0.        , 0.        , 0.        ,\n",
       "        0.        , 0.        , 0.        , 0.        , 0.        ,\n",
       "        0.        , 1.        , 1.        , 1.        , 0.1254902 ,\n",
       "        0.        , 0.        , 0.        , 0.        , 0.        ,\n",
       "        0.1254902 , 0.87843137, 1.        , 1.        , 1.        ,\n",
       "        0.        , 0.        , 0.        , 0.        , 0.        ,\n",
       "        0.        , 0.        , 0.        , 0.        , 0.        ,\n",
       "        0.        , 0.        , 0.        , 0.        , 1.        ,\n",
       "        1.        , 1.        , 0.        , 0.        , 0.        ,\n",
       "        0.        , 0.        , 0.        , 0.        , 0.00392157,\n",
       "        1.        , 1.        , 1.        , 0.        , 0.        ,\n",
       "        0.        , 0.        , 0.        , 0.        , 0.        ,\n",
       "        0.        , 0.        , 0.        , 0.        , 0.        ,\n",
       "        0.        , 0.        , 1.        , 1.        , 1.        ,\n",
       "        0.        , 0.        , 0.        , 0.        , 0.        ,\n",
       "        0.        , 0.00392157, 0.61568627, 1.        , 1.        ,\n",
       "        0.94901961, 0.        , 0.        , 0.        , 0.        ,\n",
       "        0.        , 0.        , 0.        , 0.        , 0.        ,\n",
       "        0.        , 0.        , 0.        , 0.        , 0.        ,\n",
       "        1.        , 1.        , 1.        , 0.1254902 , 0.        ,\n",
       "        0.        , 0.        , 0.        , 0.1254902 , 0.87843137,\n",
       "        1.        , 1.        , 1.        , 0.52941176, 0.        ,\n",
       "        0.        , 0.        , 0.        , 0.        , 0.        ,\n",
       "        0.        , 0.        , 0.        , 0.        , 0.        ,\n",
       "        0.        , 0.        , 0.        , 0.87843137, 1.        ,\n",
       "        1.        , 0.87843137, 0.1254902 , 0.        , 0.        ,\n",
       "        0.1254902 , 0.87843137, 1.        , 1.        , 1.        ,\n",
       "        0.61568627, 0.00392157, 0.        , 0.        , 0.        ,\n",
       "        0.        , 0.        , 0.        , 0.        , 0.        ,\n",
       "        0.        , 0.        , 0.        , 0.        , 0.        ,\n",
       "        0.        , 0.1254902 , 0.87843137, 1.        , 1.        ,\n",
       "        1.        , 1.        , 1.        , 1.        , 1.        ,\n",
       "        1.        , 0.94901961, 0.52941176, 0.00392157, 0.        ,\n",
       "        0.        , 0.        , 0.        , 0.        , 0.        ,\n",
       "        0.        , 0.        , 0.        , 0.        , 0.        ,\n",
       "        0.        , 0.        , 0.        , 0.        , 0.        ,\n",
       "        0.1254902 , 0.87843137, 1.        , 1.        , 1.        ,\n",
       "        1.        , 1.        , 1.        , 0.87843137, 0.1254902 ,\n",
       "        0.        , 0.        , 0.        , 0.        , 0.        ,\n",
       "        0.        , 0.        , 0.        , 0.        , 0.        ,\n",
       "        0.        , 0.        , 0.        , 0.        , 0.        ,\n",
       "        0.        , 0.        , 0.        , 0.        , 0.1254902 ,\n",
       "        0.87843137, 1.        , 1.        , 1.        , 1.        ,\n",
       "        0.87843137, 0.1254902 , 0.        , 0.        , 0.        ,\n",
       "        0.        , 0.        , 0.        , 0.        , 0.        ,\n",
       "        0.        , 0.        , 0.        , 0.        , 0.        ,\n",
       "        0.        , 0.        , 0.        , 0.        , 0.        ,\n",
       "        0.        , 0.        , 0.        , 0.        , 0.        ,\n",
       "        0.        , 0.        , 0.        , 0.        , 0.        ,\n",
       "        0.        , 0.        , 0.        , 0.        , 0.        ,\n",
       "        0.        , 0.        , 0.        , 0.        , 0.        ,\n",
       "        0.        , 0.        , 0.        , 0.        , 0.        ,\n",
       "        0.        , 0.        , 0.        , 0.        , 0.        ,\n",
       "        0.        , 0.        , 0.        , 0.        , 0.        ,\n",
       "        0.        , 0.        , 0.        , 0.        , 0.        ,\n",
       "        0.        , 0.        , 0.        , 0.        , 0.        ,\n",
       "        0.        , 0.        , 0.        , 0.        , 0.        ,\n",
       "        0.        , 0.        , 0.        , 0.        , 0.        ,\n",
       "        0.        , 0.        , 0.        , 0.        , 0.        ,\n",
       "        0.        , 0.        , 0.        , 0.        , 0.        ,\n",
       "        0.        , 0.        , 0.        , 0.        , 0.        ,\n",
       "        0.        , 0.        , 0.        , 0.        , 0.        ,\n",
       "        0.        , 0.        , 0.        , 0.        , 0.        ,\n",
       "        0.        , 0.        , 0.        , 0.        , 0.        ,\n",
       "        0.        , 0.        , 0.        , 0.        , 0.        ,\n",
       "        0.        , 0.        , 0.        , 0.        , 0.        ,\n",
       "        0.        , 0.        , 0.        , 0.        , 0.        ,\n",
       "        0.        , 0.        , 0.        , 0.        , 0.        ,\n",
       "        0.        , 0.        , 0.        , 0.        , 0.        ,\n",
       "        0.        , 0.        , 0.        , 0.        , 0.        ,\n",
       "        0.        , 0.        , 0.        , 0.        , 0.        ,\n",
       "        0.        , 0.        , 0.        , 0.        , 0.        ,\n",
       "        0.        , 0.        , 0.        , 0.        , 0.        ,\n",
       "        0.        , 0.        , 0.        , 0.        ]])"
      ]
     },
     "execution_count": 105,
     "metadata": {},
     "output_type": "execute_result"
    }
   ],
   "source": [
    "#Take a look at the normalized image\n",
    "my_data"
   ]
  },
  {
   "cell_type": "code",
   "execution_count": 113,
   "id": "7ab6dd10",
   "metadata": {},
   "outputs": [
    {
     "data": {
      "text/plain": [
       "3"
      ]
     },
     "execution_count": 113,
     "metadata": {},
     "output_type": "execute_result"
    }
   ],
   "source": [
    "#Make a prediction using the model\n",
    "np.argmax(model.predict(my_data))"
   ]
  },
  {
   "cell_type": "code",
   "execution_count": 114,
   "id": "208af614",
   "metadata": {},
   "outputs": [],
   "source": [
    "#Which number was predicted?\n",
    "#3"
   ]
  },
  {
   "cell_type": "markdown",
   "id": "928b1c72",
   "metadata": {},
   "source": [
    "# Movie Review Example (Classifying Text)"
   ]
  },
  {
   "cell_type": "markdown",
   "id": "e8552225",
   "metadata": {},
   "source": [
    "The following example uses movie review data from keras to build a model capable of classifying movie reviews as positive or negative"
   ]
  },
  {
   "cell_type": "code",
   "execution_count": 115,
   "id": "4d709e7e",
   "metadata": {},
   "outputs": [],
   "source": [
    "#Load the top 10_000 most frequent words from keras\n",
    "from keras.datasets import imdb"
   ]
  },
  {
   "cell_type": "code",
   "execution_count": 116,
   "id": "b71efbae",
   "metadata": {},
   "outputs": [],
   "source": [
    "(X_train, Y_train), (X_test, Y_test) = imdb.load_data(num_words=10_000)"
   ]
  },
  {
   "cell_type": "code",
   "execution_count": 117,
   "id": "932c9a03",
   "metadata": {},
   "outputs": [
    {
     "data": {
      "text/plain": [
       "(25000,)"
      ]
     },
     "execution_count": 117,
     "metadata": {},
     "output_type": "execute_result"
    }
   ],
   "source": [
    "#Look at the shape of the training set\n",
    "X_train.shape"
   ]
  },
  {
   "cell_type": "code",
   "execution_count": 118,
   "id": "f3a538aa",
   "metadata": {
    "scrolled": true
   },
   "outputs": [
    {
     "data": {
      "text/plain": [
       "(25000,)"
      ]
     },
     "execution_count": 118,
     "metadata": {},
     "output_type": "execute_result"
    }
   ],
   "source": [
    "#Look at the shape of the test set\n",
    "X_test.shape"
   ]
  },
  {
   "cell_type": "code",
   "execution_count": 120,
   "id": "c8d96e0f",
   "metadata": {},
   "outputs": [
    {
     "name": "stdout",
     "output_type": "stream",
     "text": [
      "The percentage of data that is in the training set is 50.0%\n"
     ]
    }
   ],
   "source": [
    "#print what percentage of data is in the training set?\n",
    "print(f\"The percentage of data that is in the training set is {X_train.shape[0]/(X_train.shape[0]+X_test.shape[0])*100}%\")"
   ]
  },
  {
   "cell_type": "code",
   "execution_count": 128,
   "id": "ebf46ca5",
   "metadata": {},
   "outputs": [
    {
     "data": {
      "text/plain": [
       "[1,\n",
       " 14,\n",
       " 47,\n",
       " 8,\n",
       " 30,\n",
       " 31,\n",
       " 7,\n",
       " 4,\n",
       " 249,\n",
       " 108,\n",
       " 7,\n",
       " 4,\n",
       " 5974,\n",
       " 54,\n",
       " 61,\n",
       " 369,\n",
       " 13,\n",
       " 71,\n",
       " 149,\n",
       " 14,\n",
       " 22,\n",
       " 112,\n",
       " 4,\n",
       " 2401,\n",
       " 311,\n",
       " 12,\n",
       " 16,\n",
       " 3711,\n",
       " 33,\n",
       " 75,\n",
       " 43,\n",
       " 1829,\n",
       " 296,\n",
       " 4,\n",
       " 86,\n",
       " 320,\n",
       " 35,\n",
       " 534,\n",
       " 19,\n",
       " 263,\n",
       " 4821,\n",
       " 1301,\n",
       " 4,\n",
       " 1873,\n",
       " 33,\n",
       " 89,\n",
       " 78,\n",
       " 12,\n",
       " 66,\n",
       " 16,\n",
       " 4,\n",
       " 360,\n",
       " 7,\n",
       " 4,\n",
       " 58,\n",
       " 316,\n",
       " 334,\n",
       " 11,\n",
       " 4,\n",
       " 1716,\n",
       " 43,\n",
       " 645,\n",
       " 662,\n",
       " 8,\n",
       " 257,\n",
       " 85,\n",
       " 1200,\n",
       " 42,\n",
       " 1228,\n",
       " 2578,\n",
       " 83,\n",
       " 68,\n",
       " 3912,\n",
       " 15,\n",
       " 36,\n",
       " 165,\n",
       " 1539,\n",
       " 278,\n",
       " 36,\n",
       " 69,\n",
       " 2,\n",
       " 780,\n",
       " 8,\n",
       " 106,\n",
       " 14,\n",
       " 6905,\n",
       " 1338,\n",
       " 18,\n",
       " 6,\n",
       " 22,\n",
       " 12,\n",
       " 215,\n",
       " 28,\n",
       " 610,\n",
       " 40,\n",
       " 6,\n",
       " 87,\n",
       " 326,\n",
       " 23,\n",
       " 2300,\n",
       " 21,\n",
       " 23,\n",
       " 22,\n",
       " 12,\n",
       " 272,\n",
       " 40,\n",
       " 57,\n",
       " 31,\n",
       " 11,\n",
       " 4,\n",
       " 22,\n",
       " 47,\n",
       " 6,\n",
       " 2307,\n",
       " 51,\n",
       " 9,\n",
       " 170,\n",
       " 23,\n",
       " 595,\n",
       " 116,\n",
       " 595,\n",
       " 1352,\n",
       " 13,\n",
       " 191,\n",
       " 79,\n",
       " 638,\n",
       " 89,\n",
       " 2,\n",
       " 14,\n",
       " 9,\n",
       " 8,\n",
       " 106,\n",
       " 607,\n",
       " 624,\n",
       " 35,\n",
       " 534,\n",
       " 6,\n",
       " 227,\n",
       " 7,\n",
       " 129,\n",
       " 113]"
      ]
     },
     "execution_count": 128,
     "metadata": {},
     "output_type": "execute_result"
    }
   ],
   "source": [
    "#Take a look at our data\n",
    "X_train[2]"
   ]
  },
  {
   "cell_type": "code",
   "execution_count": 133,
   "id": "5b068e8a",
   "metadata": {},
   "outputs": [],
   "source": [
    "#Use the following lines of code to decode one of the reviews\n",
    "\n",
    "word_index = imdb.get_word_index()\n",
    "reverse_word_index = dict([(value, key) for (key, value) in word_index.items()])\n",
    "decoded_review = ' '.join([reverse_word_index.get(i - 3, '?') for i in X_train[0]])\n"
   ]
  },
  {
   "cell_type": "code",
   "execution_count": 134,
   "id": "9b210570",
   "metadata": {},
   "outputs": [
    {
     "data": {
      "text/plain": [
       "\"? this film was just brilliant casting location scenery story direction everyone's really suited the part they played and you could just imagine being there robert ? is an amazing actor and now the same being director ? father came from the same scottish island as myself so i loved the fact there was a real connection with this film the witty remarks throughout the film were great it was just brilliant so much that i bought the film as soon as it was released for ? and would recommend it to everyone to watch and the fly fishing was amazing really cried at the end it was so sad and you know what they say if you cry at a film it must have been good and this definitely was also ? to the two little boy's that played the ? of norman and paul they were just brilliant children are often left out of the ? list i think because the stars that play them all grown up are such a big profile for the whole film but these children are amazing and should be praised for what they have done don't you think the whole story was so lovely because it was true and was someone's life after all that was shared with us all\""
      ]
     },
     "execution_count": 134,
     "metadata": {},
     "output_type": "execute_result"
    }
   ],
   "source": [
    "#print the decoded review\n",
    "decoded_review"
   ]
  },
  {
   "cell_type": "code",
   "execution_count": 137,
   "id": "27f0ec94",
   "metadata": {},
   "outputs": [
    {
     "data": {
      "text/plain": [
       "298"
      ]
     },
     "execution_count": 137,
     "metadata": {},
     "output_type": "execute_result"
    }
   ],
   "source": [
    "#Let's check why this is not a good input to a neural network\n",
    "len(X_train[1000])"
   ]
  },
  {
   "cell_type": "markdown",
   "id": "29d50e7c",
   "metadata": {},
   "source": [
    "<h3>One-hot Encode</h3>"
   ]
  },
  {
   "cell_type": "code",
   "execution_count": 40,
   "id": "cd541d3b",
   "metadata": {},
   "outputs": [],
   "source": [
    "import numpy as np\n",
    "\n",
    "def encode(reviews, num_words):\n",
    "    #Set the initial value to zero for all words\n",
    "    result = np.zeros((len(reviews), num_words))\n",
    "    #iterate through reviews\n",
    "    for idx, word in enumerate(reviews):\n",
    "        #set the word existing in a review to 1\n",
    "        result[idx, word]=1\n",
    "    return result"
   ]
  },
  {
   "cell_type": "code",
   "execution_count": 139,
   "id": "d4cba5ac",
   "metadata": {},
   "outputs": [],
   "source": [
    "#one-hot encode them\n",
    "X_train = encode(X_train, 10_000)\n",
    "X_test = encode(X_test, 10_000)"
   ]
  },
  {
   "cell_type": "code",
   "execution_count": 140,
   "id": "b248ac42",
   "metadata": {},
   "outputs": [
    {
     "data": {
      "text/plain": [
       "array([[0., 1., 1., ..., 0., 0., 0.],\n",
       "       [0., 1., 1., ..., 0., 0., 0.],\n",
       "       [0., 1., 1., ..., 0., 0., 0.],\n",
       "       ...,\n",
       "       [0., 1., 1., ..., 0., 0., 0.],\n",
       "       [0., 1., 1., ..., 0., 0., 0.],\n",
       "       [0., 1., 1., ..., 0., 0., 0.]])"
      ]
     },
     "execution_count": 140,
     "metadata": {},
     "output_type": "execute_result"
    }
   ],
   "source": [
    "X_train"
   ]
  },
  {
   "cell_type": "code",
   "execution_count": 141,
   "id": "32e7baac",
   "metadata": {},
   "outputs": [],
   "source": [
    "#convert into a numpy array\n",
    "X_train = np.asarray(X_train)\n",
    "X_test = np.asarray(X_test)"
   ]
  },
  {
   "cell_type": "code",
   "execution_count": 142,
   "id": "b7fcada5",
   "metadata": {},
   "outputs": [
    {
     "data": {
      "text/plain": [
       "(25000, 10000)"
      ]
     },
     "execution_count": 142,
     "metadata": {},
     "output_type": "execute_result"
    }
   ],
   "source": [
    "#Take a look at the shape\n",
    "X_train.shape"
   ]
  },
  {
   "cell_type": "markdown",
   "id": "184159ae",
   "metadata": {},
   "source": [
    "<h3>Build Model</h3>"
   ]
  },
  {
   "cell_type": "code",
   "execution_count": 143,
   "id": "b1b3bcc2",
   "metadata": {},
   "outputs": [],
   "source": [
    "#build model\n",
    "model = models.Sequential()\n",
    "model.add(layers.Dense(16, activation='relu', input_shape=(10_000,)))\n",
    "model.add(layers.Dense(16, activation='relu'))\n",
    "model.add(layers.Dense(1, activation='sigmoid'))"
   ]
  },
  {
   "cell_type": "code",
   "execution_count": 144,
   "id": "1f5e7f66",
   "metadata": {},
   "outputs": [],
   "source": [
    "#define validation set\n",
    "X_val = X_train[:10_000]\n",
    "Y_val = Y_train[:10_000]\n",
    "X_train = X_train[10_000:]\n",
    "Y_train = Y_train[10_000:]"
   ]
  },
  {
   "cell_type": "markdown",
   "id": "b6f95446",
   "metadata": {},
   "source": [
    "<h3>Train Model</h3>"
   ]
  },
  {
   "cell_type": "code",
   "execution_count": 145,
   "id": "49edacf7",
   "metadata": {},
   "outputs": [],
   "source": [
    "#train model\n",
    "model.compile(optimizer='Adam', loss='MSE', metrics=['accuracy'])"
   ]
  },
  {
   "cell_type": "code",
   "execution_count": 146,
   "id": "63ee8089",
   "metadata": {
    "scrolled": true
   },
   "outputs": [
    {
     "name": "stdout",
     "output_type": "stream",
     "text": [
      "Epoch 1/20\n",
      "30/30 [==============================] - 5s 141ms/step - loss: 0.1775 - accuracy: 0.7859 - val_loss: 0.1191 - val_accuracy: 0.8626\n",
      "Epoch 2/20\n",
      "30/30 [==============================] - 1s 37ms/step - loss: 0.0859 - accuracy: 0.9058 - val_loss: 0.0899 - val_accuracy: 0.8861\n",
      "Epoch 3/20\n",
      "30/30 [==============================] - 1s 32ms/step - loss: 0.0572 - accuracy: 0.9393 - val_loss: 0.0844 - val_accuracy: 0.8872\n",
      "Epoch 4/20\n",
      "30/30 [==============================] - 1s 35ms/step - loss: 0.0421 - accuracy: 0.9576 - val_loss: 0.0836 - val_accuracy: 0.8884\n",
      "Epoch 5/20\n",
      "30/30 [==============================] - 1s 35ms/step - loss: 0.0320 - accuracy: 0.9717 - val_loss: 0.0853 - val_accuracy: 0.8815\n",
      "Epoch 6/20\n",
      "30/30 [==============================] - 1s 34ms/step - loss: 0.0249 - accuracy: 0.9803 - val_loss: 0.0872 - val_accuracy: 0.8806\n",
      "Epoch 7/20\n",
      "30/30 [==============================] - 1s 31ms/step - loss: 0.0196 - accuracy: 0.9859 - val_loss: 0.0893 - val_accuracy: 0.8797\n",
      "Epoch 8/20\n",
      "30/30 [==============================] - 1s 30ms/step - loss: 0.0155 - accuracy: 0.9891 - val_loss: 0.0914 - val_accuracy: 0.8778\n",
      "Epoch 9/20\n",
      "30/30 [==============================] - 1s 41ms/step - loss: 0.0123 - accuracy: 0.9917 - val_loss: 0.0937 - val_accuracy: 0.8751\n",
      "Epoch 10/20\n",
      "30/30 [==============================] - 1s 43ms/step - loss: 0.0101 - accuracy: 0.9935 - val_loss: 0.0961 - val_accuracy: 0.8747\n",
      "Epoch 11/20\n",
      "30/30 [==============================] - 1s 37ms/step - loss: 0.0082 - accuracy: 0.9949 - val_loss: 0.0977 - val_accuracy: 0.8743\n",
      "Epoch 12/20\n",
      "30/30 [==============================] - 1s 37ms/step - loss: 0.0072 - accuracy: 0.9955 - val_loss: 0.0992 - val_accuracy: 0.8723\n",
      "Epoch 13/20\n",
      "30/30 [==============================] - 1s 31ms/step - loss: 0.0063 - accuracy: 0.9959 - val_loss: 0.1007 - val_accuracy: 0.8720\n",
      "Epoch 14/20\n",
      "30/30 [==============================] - 1s 29ms/step - loss: 0.0056 - accuracy: 0.9961 - val_loss: 0.1021 - val_accuracy: 0.8714\n",
      "Epoch 15/20\n",
      "30/30 [==============================] - 1s 31ms/step - loss: 0.0051 - accuracy: 0.9963 - val_loss: 0.1032 - val_accuracy: 0.8712\n",
      "Epoch 16/20\n",
      "30/30 [==============================] - 1s 34ms/step - loss: 0.0048 - accuracy: 0.9963 - val_loss: 0.1045 - val_accuracy: 0.8706\n",
      "Epoch 17/20\n",
      "30/30 [==============================] - 1s 33ms/step - loss: 0.0045 - accuracy: 0.9965 - val_loss: 0.1047 - val_accuracy: 0.8706\n",
      "Epoch 18/20\n",
      "30/30 [==============================] - 1s 26ms/step - loss: 0.0043 - accuracy: 0.9965 - val_loss: 0.1054 - val_accuracy: 0.8701\n",
      "Epoch 19/20\n",
      "30/30 [==============================] - 1s 30ms/step - loss: 0.0041 - accuracy: 0.9965 - val_loss: 0.1063 - val_accuracy: 0.8691\n",
      "Epoch 20/20\n",
      "30/30 [==============================] - 1s 35ms/step - loss: 0.0040 - accuracy: 0.9966 - val_loss: 0.1071 - val_accuracy: 0.8685\n"
     ]
    }
   ],
   "source": [
    "#fit model to data\n",
    "history = model.fit(X_train, Y_train, epochs=20, batch_size=512, validation_data=(X_val, Y_val))"
   ]
  },
  {
   "cell_type": "code",
   "execution_count": 48,
   "id": "424b08e0",
   "metadata": {},
   "outputs": [],
   "source": [
    "#predict the test labels\n",
    "model.predict(X_test)"
   ]
  },
  {
   "cell_type": "code",
   "execution_count": 49,
   "id": "16d76941",
   "metadata": {},
   "outputs": [],
   "source": [
    "#Take a look at predictions"
   ]
  },
  {
   "cell_type": "code",
   "execution_count": 147,
   "id": "f027e227",
   "metadata": {},
   "outputs": [
    {
     "name": "stdout",
     "output_type": "stream",
     "text": [
      "782/782 [==============================] - 4s 5ms/step - loss: 0.1167 - accuracy: 0.8560: 0s - loss: 0\n"
     ]
    },
    {
     "data": {
      "text/plain": [
       "[0.11673662811517715, 0.8560000061988831]"
      ]
     },
     "execution_count": 147,
     "metadata": {},
     "output_type": "execute_result"
    }
   ],
   "source": [
    "#evaluate loss and accuracy on test data\n",
    "model.evaluate(X_test, Y_test)"
   ]
  },
  {
   "cell_type": "code",
   "execution_count": 148,
   "id": "ba1740fd",
   "metadata": {},
   "outputs": [
    {
     "data": {
      "text/plain": [
       "dict_keys(['loss', 'accuracy', 'val_loss', 'val_accuracy'])"
      ]
     },
     "execution_count": 148,
     "metadata": {},
     "output_type": "execute_result"
    }
   ],
   "source": [
    "#get history keys\n",
    "history.history.keys()"
   ]
  },
  {
   "cell_type": "code",
   "execution_count": 149,
   "id": "845c612c",
   "metadata": {},
   "outputs": [],
   "source": [
    "#get training and loss over epochs form history\n",
    "train_acc = history.history['accuracy']\n",
    "train_loss = history.history['loss']\n",
    "\n",
    "val_acc = history.history['val_accuracy']\n",
    "val_loss = history.history['val_loss']"
   ]
  },
  {
   "cell_type": "code",
   "execution_count": 152,
   "id": "9a29bfef",
   "metadata": {},
   "outputs": [
    {
     "data": {
      "image/png": "[encoded data removed]",
      "text/plain": [
       "<Figure size 432x288 with 1 Axes>"
      ]
     },
     "metadata": {
      "needs_background": "light"
     },
     "output_type": "display_data"
    },
    {
     "data": {
      "image/png": "[encoded data removed]",
      "text/plain": [
       "<Figure size 432x288 with 1 Axes>"
      ]
     },
     "metadata": {
      "needs_background": "light"
     },
     "output_type": "display_data"
    }
   ],
   "source": [
    "#plot validation loss and accuracy\n",
    "#accuracy plot\n",
    "#loss plot#plot validation loss and accuracy\n",
    "train_acc = history.history['accuracy']\n",
    "train_loss = history.history['loss']\n",
    "val_acc = history.history['val_accuracy']\n",
    "val_loss = history.history['val_loss']\n",
    "epochs = range(0,20)\n",
    "#accuracy plot\n",
    "plt.plot(epochs, train_acc, 'g', label='Training Accuracy')\n",
    "plt.plot(epochs, val_acc, 'b', label='validation Accuracy')\n",
    "plt.title('Training and Validation Accuracy')\n",
    "plt.xlabel('Epochs')\n",
    "plt.ylabel('Accuracy')\n",
    "plt.legend()\n",
    "plt.show()\n",
    "#loss plot\n",
    "plt.plot(epochs, train_loss, 'g', label='Training loss')\n",
    "plt.plot(epochs, val_loss, 'b', label='validation loss')\n",
    "plt.title('Training and Validation loss')\n",
    "plt.xlabel('Epochs')\n",
    "plt.ylabel('Loss')\n",
    "plt.legend()\n",
    "plt.show()"
   ]
  },
  {
   "cell_type": "markdown",
   "id": "ffcb3bb3",
   "metadata": {},
   "source": [
    "Fall 2021<br>\n",
    "Texas A&M University<br>\n",
    "Texas, **=="
   ]
  }
 ],
 "metadata": {
  "kernelspec": {
   "display_name": "Python 3",
   "language": "python",
   "name": "python3"
  },
  "language_info": {
   "codemirror_mode": {
    "name": "ipython",
    "version": 3
   },
   "file_extension": ".py",
   "mimetype": "text/x-python",
   "name": "python",
   "nbconvert_exporter": "python",
   "pygments_lexer": "ipython3",
   "version": "3.8.8"
  }
 },
 "nbformat": 4,
 "nbformat_minor": 5
}
